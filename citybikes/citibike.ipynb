{
 "cells": [
  {
   "cell_type": "code",
   "execution_count": null,
   "id": "31f06970",
   "metadata": {},
   "outputs": [],
   "source": [
    "# question: How many Citi Bike rides each day are taken by \"subscrubers\" versus \"customers\"?\n",
    "\n",
    "# answer: Choose a single day of rides to examine.\n",
    "# the dataset used for this exercise was generated from the original Citi Bike system data found here:\n",
    "# https://s3.amazonaws.com/tripdata/index.html\n",
    "# filename: 202009-citibike-tripdata.csv.\n",
    "\n",
    "# program outline: \n",
    "# 1. read in the data file:202009CitibikeTripdataExample.csv\n",
    "# 2. create variables to count: subscribers, customers and other\n",
    "# 3. for each row in the file:\n",
    "#    a. If the user type is \"subscriber\", add 1 to subscriber_count\n",
    "#    b. If the user type is \"customer\", add 1 to customer_count\n",
    "#    c. Otherwise, add 1 to the \"other\" variable\n",
    "# 4. Print out my results"
   ]
  }
 ],
 "metadata": {
  "kernelspec": {
   "display_name": "Python 3 (ipykernel)",
   "language": "python",
   "name": "python3"
  },
  "language_info": {
   "codemirror_mode": {
    "name": "ipython",
    "version": 3
   },
   "file_extension": ".py",
   "mimetype": "text/x-python",
   "name": "python",
   "nbconvert_exporter": "python",
   "pygments_lexer": "ipython3",
   "version": "3.9.12"
  }
 },
 "nbformat": 4,
 "nbformat_minor": 5
}
